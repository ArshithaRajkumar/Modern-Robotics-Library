{
 "cells": [
  {
   "cell_type": "code",
   "execution_count": 7,
   "id": "d61bc353",
   "metadata": {},
   "outputs": [],
   "source": [
    "import modern_robotics as mr\n",
    "import numpy as np\n",
    "import math"
   ]
  },
  {
   "cell_type": "code",
   "execution_count": 8,
   "id": "70ba754c",
   "metadata": {},
   "outputs": [
    {
     "name": "stdout",
     "output_type": "stream",
     "text": [
      "[[0 1 0]\n",
      " [0 0 1]\n",
      " [1 0 0]]\n"
     ]
    }
   ],
   "source": [
    "R = np.array([[0, 0, 1],\n",
    "              [1, 0, 0],\n",
    "              [0, 1, 0]])\n",
    "invR = mr.RotInv(R)\n",
    "print(invR)"
   ]
  },
  {
   "cell_type": "code",
   "execution_count": 9,
   "id": "c9fa5d69",
   "metadata": {},
   "outputs": [
    {
     "name": "stdout",
     "output_type": "stream",
     "text": [
      "Help on function NearZero in module modern_robotics.core:\n",
      "\n",
      "NearZero(z)\n",
      "    Determines whether a scalar is small enough to be treated as zero\n",
      "\n",
      "    :param z: A scalar input to check\n",
      "    :return: True if z is close to zero, false otherwise\n",
      "\n",
      "    Example Input:\n",
      "        z = -1e-7\n",
      "    Output:\n",
      "        True\n",
      "\n"
     ]
    }
   ],
   "source": [
    "help(mr.NearZero)"
   ]
  },
  {
   "cell_type": "code",
   "execution_count": 10,
   "id": "3b7c37c4",
   "metadata": {},
   "outputs": [],
   "source": [
    "R=np.array([-2,-1,-0.5])\n",
    "p=mr.VecToso3(R)"
   ]
  },
  {
   "cell_type": "code",
   "execution_count": 11,
   "id": "67a4b89c",
   "metadata": {},
   "outputs": [
    {
     "data": {
      "text/plain": [
       "array([[ 0. ,  0.5, -1. ],\n",
       "       [-0.5,  0. ,  2. ],\n",
       "       [ 1. , -2. ,  0. ]])"
      ]
     },
     "execution_count": 11,
     "metadata": {},
     "output_type": "execute_result"
    }
   ],
   "source": [
    "p"
   ]
  },
  {
   "cell_type": "code",
   "execution_count": 12,
   "id": "0925974b",
   "metadata": {},
   "outputs": [],
   "source": [
    "k=mr.MatrixExp3(p)"
   ]
  },
  {
   "cell_type": "code",
   "execution_count": 13,
   "id": "cc7de518",
   "metadata": {},
   "outputs": [
    {
     "data": {
      "text/plain": [
       "array([[ 0.60482045,  0.796274  , -0.01182979],\n",
       "       [ 0.46830057, -0.34361048,  0.81401868],\n",
       "       [ 0.64411707, -0.49787504, -0.58071821]])"
      ]
     },
     "execution_count": 13,
     "metadata": {},
     "output_type": "execute_result"
    }
   ],
   "source": [
    "k"
   ]
  },
  {
   "cell_type": "code",
   "execution_count": 14,
   "id": "c1568cee",
   "metadata": {},
   "outputs": [
    {
     "name": "stdout",
     "output_type": "stream",
     "text": [
      "Help on function ScrewToAxis in module modern_robotics.core:\n",
      "\n",
      "ScrewToAxis(q, s, h)\n",
      "    Takes a parametric description of a screw axis and converts it to a\n",
      "    normalized screw axis\n",
      "\n",
      "    :param q: A point lying on the screw axis\n",
      "    :param s: A unit vector in the direction of the screw axis\n",
      "    :param h: The pitch of the screw axis\n",
      "    :return: A normalized screw axis described by the inputs\n",
      "\n",
      "    Example Input:\n",
      "        q = np.array([3, 0, 0])\n",
      "        s = np.array([0, 0, 1])\n",
      "        h = 2\n",
      "    Output:\n",
      "        np.array([0, 0, 1, 0, -3, 2])\n",
      "\n"
     ]
    }
   ],
   "source": [
    "help(mr.ScrewToAxis)"
   ]
  },
  {
   "cell_type": "code",
   "execution_count": 15,
   "id": "ae05dcd1",
   "metadata": {},
   "outputs": [],
   "source": [
    "def nearzero(x):\n",
    "    return print(x<1e-6)"
   ]
  },
  {
   "cell_type": "code",
   "execution_count": 16,
   "id": "f73bfa84",
   "metadata": {},
   "outputs": [
    {
     "name": "stdout",
     "output_type": "stream",
     "text": [
      "True\n"
     ]
    }
   ],
   "source": [
    "c=nearzero(1e-7)"
   ]
  },
  {
   "cell_type": "code",
   "execution_count": 17,
   "id": "1d366f9e",
   "metadata": {},
   "outputs": [],
   "source": [
    "def normalize(x):\n",
    "    b=math.sqrt(np.dot(x, x))\n",
    "    #B=math.sqrt(x*x)\n",
    "    d=x/b\n",
    "    c=x/np.linalg.norm(x)\n",
    "    return c"
   ]
  },
  {
   "cell_type": "code",
   "execution_count": 18,
   "id": "b2ba7dd2",
   "metadata": {},
   "outputs": [
    {
     "data": {
      "text/plain": [
       "array([0.26726124, 0.53452248, 0.80178373])"
      ]
     },
     "execution_count": 18,
     "metadata": {},
     "output_type": "execute_result"
    }
   ],
   "source": [
    "normalize(np.array([1, 2, 3]))"
   ]
  },
  {
   "cell_type": "code",
   "execution_count": 19,
   "id": "92d2fa85",
   "metadata": {},
   "outputs": [],
   "source": [
    "def rotInv(R):\n",
    "    #RT = np.zeros((len(R), len(R)))\n",
    "    RT=[[0 for _ in range(len(R))] for _ in range(len(R))]\n",
    "    for a in range (len(R)):\n",
    "        for b in range(len(R)):\n",
    "            RT[a][b]=R[b][a]\n",
    "    RT2 = np.transpose(R)                        \n",
    "    return RT2\n"
   ]
  },
  {
   "cell_type": "code",
   "execution_count": 20,
   "id": "01f29fd5",
   "metadata": {},
   "outputs": [
    {
     "data": {
      "text/plain": [
       "array([[1, 0, 0],\n",
       "       [2, 1, 0],\n",
       "       [3, 0, 1]])"
      ]
     },
     "execution_count": 20,
     "metadata": {},
     "output_type": "execute_result"
    }
   ],
   "source": [
    "rotInv(np.array([[1, 2, 3],\n",
    "                 [0, 1, 0],\n",
    "                 [0, 0, 1]]))"
   ]
  },
  {
   "cell_type": "code",
   "execution_count": 21,
   "id": "c3f1a335",
   "metadata": {},
   "outputs": [],
   "source": [
    "def vectoso3(w):\n",
    "    #w1, w2, w3 = w[0], w[1], w[2]\n",
    "    return np.array([[0, -w[2], w[1]],\n",
    "                     [w[2], 0, -w[0]],\n",
    "                     [-w[1], w[2], 0]]) "
   ]
  },
  {
   "cell_type": "code",
   "execution_count": 22,
   "id": "4a1d85f8",
   "metadata": {},
   "outputs": [
    {
     "data": {
      "text/plain": [
       "array([[ 0, -2,  1],\n",
       "       [ 2,  0,  0],\n",
       "       [-1,  2,  0]])"
      ]
     },
     "execution_count": 22,
     "metadata": {},
     "output_type": "execute_result"
    }
   ],
   "source": [
    "vectoso3(np.array([0,1,2]))"
   ]
  },
  {
   "cell_type": "code",
   "execution_count": 23,
   "id": "8934b832",
   "metadata": {},
   "outputs": [],
   "source": [
    "def so3tovec(W):\n",
    "    return np.array([-W[1][2],W[0][2],-W[0][1]])"
   ]
  },
  {
   "cell_type": "code",
   "execution_count": 24,
   "id": "fdb7ffa8",
   "metadata": {},
   "outputs": [
    {
     "data": {
      "text/plain": [
       "array([0, 1, 2])"
      ]
     },
     "execution_count": 24,
     "metadata": {},
     "output_type": "execute_result"
    }
   ],
   "source": [
    "so3tovec(np.array([[ 0, -2,  1],\n",
    "       [ 2,  0,  0],\n",
    "       [-1,  0,  0]]))"
   ]
  },
  {
   "cell_type": "code",
   "execution_count": 25,
   "id": "a3b1feae",
   "metadata": {},
   "outputs": [],
   "source": [
    "def axisang3(omghattheta):\n",
    "    omega=normalize(omghattheta)\n",
    "    theta=np.linalg.norm(omghattheta)\n",
    "    return (omega,theta)\n"
   ]
  },
  {
   "cell_type": "code",
   "execution_count": 26,
   "id": "7d09935c",
   "metadata": {},
   "outputs": [
    {
     "data": {
      "text/plain": [
       "(array([0.26726124, 0.53452248, 0.80178373]), np.float64(3.7416573867739413))"
      ]
     },
     "execution_count": 26,
     "metadata": {},
     "output_type": "execute_result"
    }
   ],
   "source": [
    "axisang3(np.array([1,2,3]))"
   ]
  },
  {
   "cell_type": "code",
   "execution_count": 27,
   "id": "f820ddf4",
   "metadata": {},
   "outputs": [],
   "source": [
    "def matrixexp3(so3mat):\n",
    "    so3vec=so3tovec(so3mat)\n",
    "    omega=axisang3(so3vec)[0]\n",
    "    theta=axisang3(so3vec)[1]\n",
    "    R=np.identity(3)+np.sin(theta)*so3mat+(1-np.cos(theta))*np.dot(so3mat)\n",
    "    return R"
   ]
  },
  {
   "cell_type": "code",
   "execution_count": 28,
   "id": "c8ec69e9",
   "metadata": {},
   "outputs": [],
   "source": [
    "def matrixlog3(R):\n",
    "    ctheta=(np.trace(R)-1)/2\n",
    "    if ctheta>=1:\n",
    "        return np.zeros(3)\n",
    "    elif ctheta<=-1:\n",
    "        if not nearzero(1 + R[2][2]):\n",
    "            omg = (1.0 / np.sqrt(2 * (1 + R[2][2]))) \\\n",
    "                  * np.array([R[0][2], R[1][2], 1 + R[2][2]])\n",
    "        elif not nearzero(1 + R[1][1]):\n",
    "            omg = (1.0 / np.sqrt(2 * (1 + R[1][1]))) \\\n",
    "                  * np.array([R[0][1], 1 + R[1][1], R[2][1]])\n",
    "        else:\n",
    "            omg = (1.0 / np.sqrt(2 * (1 + R[0][0]))) \\\n",
    "                  * np.array([1 + R[0][0], R[1][0], R[2][0]])\n",
    "        return vectoso3(np.pi * omg)\n",
    "    else:\n",
    "        theta=np.arccos(ctheta)\n",
    "        omg=(R-R.T)/2*np.sin(theta)\n",
    "        return (theta*omg)"
   ]
  },
  {
   "cell_type": "code",
   "execution_count": null,
   "id": "198aaa0b",
   "metadata": {},
   "outputs": [],
   "source": [
    "#two doubts spherical joint axis of rotation\n",
    "#and this matrix exponential calculation"
   ]
  },
  {
   "cell_type": "code",
   "execution_count": null,
   "id": "b17813f2",
   "metadata": {},
   "outputs": [],
   "source": []
  }
 ],
 "metadata": {
  "kernelspec": {
   "display_name": "Python 3",
   "language": "python",
   "name": "python3"
  },
  "language_info": {
   "codemirror_mode": {
    "name": "ipython",
    "version": 3
   },
   "file_extension": ".py",
   "mimetype": "text/x-python",
   "name": "python",
   "nbconvert_exporter": "python",
   "pygments_lexer": "ipython3",
   "version": "3.12.5"
  }
 },
 "nbformat": 4,
 "nbformat_minor": 5
}
